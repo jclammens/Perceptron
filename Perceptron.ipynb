{
 "cells": [
  {
   "cell_type": "code",
   "execution_count": 2,
   "metadata": {
    "collapsed": true
   },
   "outputs": [],
   "source": [
    "import numpy as np\n",
    "import pandas as pd\n",
    "import matplotlib.pyplot as plt\n",
    "%matplotlib inline  "
   ]
  },
  {
   "cell_type": "code",
   "execution_count": 39,
   "metadata": {
    "collapsed": false
   },
   "outputs": [
    {
     "data": {
      "text/html": [
       "<div>\n",
       "<table border=\"1\" class=\"dataframe\">\n",
       "  <thead>\n",
       "    <tr style=\"text-align: right;\">\n",
       "      <th></th>\n",
       "      <th>0</th>\n",
       "      <th>1</th>\n",
       "      <th>2</th>\n",
       "      <th>3</th>\n",
       "    </tr>\n",
       "    <tr>\n",
       "      <th>col_4</th>\n",
       "      <th></th>\n",
       "      <th></th>\n",
       "      <th></th>\n",
       "      <th></th>\n",
       "    </tr>\n",
       "  </thead>\n",
       "  <tbody>\n",
       "    <tr>\n",
       "      <th>0</th>\n",
       "      <td>50</td>\n",
       "      <td>50</td>\n",
       "      <td>50</td>\n",
       "      <td>50</td>\n",
       "    </tr>\n",
       "    <tr>\n",
       "      <th>1</th>\n",
       "      <td>50</td>\n",
       "      <td>50</td>\n",
       "      <td>50</td>\n",
       "      <td>50</td>\n",
       "    </tr>\n",
       "    <tr>\n",
       "      <th>2</th>\n",
       "      <td>50</td>\n",
       "      <td>50</td>\n",
       "      <td>50</td>\n",
       "      <td>50</td>\n",
       "    </tr>\n",
       "  </tbody>\n",
       "</table>\n",
       "</div>"
      ],
      "text/plain": [
       "        0   1   2   3\n",
       "col_4                \n",
       "0      50  50  50  50\n",
       "1      50  50  50  50\n",
       "2      50  50  50  50"
      ]
     },
     "execution_count": 39,
     "metadata": {},
     "output_type": "execute_result"
    }
   ],
   "source": [
    "from sklearn import datasets\n",
    "# import some data to play with\n",
    "iris = datasets.load_iris()\n",
    "df1 = pd.DataFrame(iris.data[:, :5]) #.append(pd.DataFrame(iris.target))\n",
    "df2 = pd.DataFrame(iris.target, columns = ['col_4'])\n",
    "df = pd.concat([df1,df2], axis = 1)\n",
    "s = df.groupby('col_4')\n",
    "s.count()"
   ]
  },
  {
   "cell_type": "code",
   "execution_count": 40,
   "metadata": {
    "collapsed": false
   },
   "outputs": [],
   "source": [
    "class Perceptron(object):\n",
    "\n",
    "    def __init__(self, eta = 0.01, n_iter = 10):\n",
    "        self.eta = eta\n",
    "        self.n_iter = n_iter\n",
    "        \n",
    "    def fit(self, X, y):\n",
    "        self.w_ = np.zeros(1 + X.shape[1])\n",
    "        print(self.w_)\n",
    "        self.errors_ = []\n",
    "        \n",
    "        for _ in range(self.n_iter):\n",
    "            errors = 0\n",
    "            \n",
    "            for xi,  target in zip(X, y):\n",
    "                update = self.eta * (target - self.predict(xi))\n",
    "                self.w_[1:] += update * xi\n",
    "                self.w_[0] += update\n",
    "                errors += int(update != 0.0)\n",
    "            self.errors_.append(errors)\n",
    "        print(self.errors_)\n",
    "        print(self)\n",
    "        return self\n",
    "    \n",
    "    def __repr__(self):\n",
    "        return \"<Perceptron epochs:%s errors:%s weights:%s>\" % (self.n_iter, self.errors_, self.w_)\n",
    "    \n",
    "    def net_input(self, X):\n",
    "        return np.dot(X, self.w_[1:]) + self.w_[0]\n",
    "    \n",
    "    def predict(self, X):\n",
    "        return np.where(self.net_input(X) >= 0.0, 1, -1)\n",
    "\n",
    "class AdalineGD(object):\n",
    "\n",
    "    def __init__(self, eta = 0.01, n_iter = 50):\n",
    "        self.eta = eta\n",
    "        self.n_iter = n_iter\n",
    "        \n",
    "    def fit(self, X, y):\n",
    "        self.w_ = np.zeros(1 + X.shape[1])\n",
    "        self.cost_ = []\n",
    "        \n",
    "        for _ in range(self.n_iter):\n",
    "            output = self.net_input(X)\n",
    "            errors = (y - output)\n",
    "            self.w_[1:] += self.eta * X.T.dot(errors)\n",
    "            self.w_[0] += self.eta * errors.sum()\n",
    "            cost = (errors**2).sum() / 2.0\n",
    "            self.cost_.append(cost)\n",
    "            print(self.cost_)\n",
    "        return self\n",
    "    \n",
    "    def net_input(self, X):\n",
    "        return np.dot(X, self.w_[1:]) + self.w_[0]\n",
    "    \n",
    "    def activation(self, X):\n",
    "        return self.net_input(X)\n",
    "\n",
    "    def predict(self, X):\n",
    "        return np.where(self.activation(X) >= 0.0, 1, -1)"
   ]
  },
  {
   "cell_type": "code",
   "execution_count": 41,
   "metadata": {
    "collapsed": false
   },
   "outputs": [
    {
     "data": {
      "image/png": "[encoded data removed]",
      "text/plain": [
       "<matplotlib.figure.Figure at 0x1f25f44f6d8>"
      ]
     },
     "metadata": {},
     "output_type": "display_data"
    }
   ],
   "source": [
    "y = df.iloc[0:100, 4].values\n",
    "y = np.where(y ==  1, -1, 1)\n",
    "X = df.iloc[0:100, [0, 2]].values\n",
    "plt.scatter(X[:50, 0], X[:50, 1], color = 'red', marker = 'o', label = 'setosa')\n",
    "plt.scatter(X[50:100, 0], X[50:100, 1], color = 'blue', marker = 'x', label = 'versicolor')\n",
    "plt.xlabel('sepal length')\n",
    "plt.ylabel('petal length')\n",
    "plt.legend(loc = 'upper left')\n",
    "plt.show()"
   ]
  },
  {
   "cell_type": "code",
   "execution_count": 31,
   "metadata": {
    "collapsed": false
   },
   "outputs": [
    {
     "name": "stdout",
     "output_type": "stream",
     "text": [
      "[ 0.  0.  0.]\n",
      "[1, 3, 3, 2, 1, 0, 0, 0, 0, 0]\n",
      "<Perceptron epochs:10 errors:[1, 3, 3, 2, 1, 0, 0, 0, 0, 0] weights:[ 0.04   0.07  -0.184]>\n"
     ]
    },
    {
     "data": {
      "text/plain": [
       "<function matplotlib.pyplot.show>"
      ]
     },
     "execution_count": 31,
     "metadata": {},
     "output_type": "execute_result"
    },
    {
     "data": {
      "image/png": "[encoded data removed]",
      "text/plain": [
       "<matplotlib.figure.Figure at 0x1f25f0d7160>"
      ]
     },
     "metadata": {},
     "output_type": "display_data"
    }
   ],
   "source": [
    "ppn = Perceptron(eta = 0.01, n_iter = 10).fit(X, y)\n",
    "plt.plot(range(1, len(ppn.errors_) + 1), ppn.errors_, marker = 'o')\n",
    "plt.xlabel('Epochs')\n",
    "plt.ylabel('Number of miscalculations')\n",
    "plt.show"
   ]
  },
  {
   "cell_type": "code",
   "execution_count": 42,
   "metadata": {
    "collapsed": false
   },
   "outputs": [
    {
     "name": "stdout",
     "output_type": "stream",
     "text": [
      "[50.0]\n",
      "[50.0, 1006.3894403778448]\n",
      "[50.0, 1006.3894403778448, 105804.66795210178]\n",
      "[50.0, 1006.3894403778448, 105804.66795210178, 11155739.195249896]\n",
      "[50.0, 1006.3894403778448, 105804.66795210178, 11155739.195249896, 1176261261.8390045]\n",
      "[50.0, 1006.3894403778448, 105804.66795210178, 11155739.195249896, 1176261261.8390045, 124025032495.86548]\n",
      "[50.0, 1006.3894403778448, 105804.66795210178, 11155739.195249896, 1176261261.8390045, 124025032495.86548, 13077204208460.236]\n",
      "[50.0, 1006.3894403778448, 105804.66795210178, 11155739.195249896, 1176261261.8390045, 124025032495.86548, 13077204208460.236, 1378860915996732.8]\n",
      "[50.0, 1006.3894403778448, 105804.66795210178, 11155739.195249896, 1176261261.8390045, 124025032495.86548, 13077204208460.236, 1378860915996732.8, 1.4538714815157216e+17]\n",
      "[50.0, 1006.3894403778448, 105804.66795210178, 11155739.195249896, 1176261261.8390045, 124025032495.86548, 13077204208460.236, 1378860915996732.8, 1.4538714815157216e+17, 1.5329626507230206e+19]\n",
      "[50.0, 1006.3894403778448, 105804.66795210178, 11155739.195249896, 1176261261.8390045, 124025032495.86548, 13077204208460.236, 1378860915996732.8, 1.4538714815157216e+17, 1.5329626507230206e+19, 1.6163564100327514e+21]\n",
      "[50.0, 1006.3894403778448, 105804.66795210178, 11155739.195249896, 1176261261.8390045, 124025032495.86548, 13077204208460.236, 1378860915996732.8, 1.4538714815157216e+17, 1.5329626507230206e+19, 1.6163564100327514e+21, 1.7042868220055648e+23]\n",
      "[50.0, 1006.3894403778448, 105804.66795210178, 11155739.195249896, 1176261261.8390045, 124025032495.86548, 13077204208460.236, 1378860915996732.8, 1.4538714815157216e+17, 1.5329626507230206e+19, 1.6163564100327514e+21, 1.7042868220055648e+23, 1.7970006822956658e+25]\n",
      "[50.0, 1006.3894403778448, 105804.66795210178, 11155739.195249896, 1176261261.8390045, 124025032495.86548, 13077204208460.236, 1378860915996732.8, 1.4538714815157216e+17, 1.5329626507230206e+19, 1.6163564100327514e+21, 1.7042868220055648e+23, 1.7970006822956658e+25, 1.8947582123360127e+27]\n",
      "[50.0, 1006.3894403778448, 105804.66795210178, 11155739.195249896, 1176261261.8390045, 124025032495.86548, 13077204208460.236, 1378860915996732.8, 1.4538714815157216e+17, 1.5329626507230206e+19, 1.6163564100327514e+21, 1.7042868220055648e+23, 1.7970006822956658e+25, 1.8947582123360127e+27, 1.9978337897058583e+29]\n"
     ]
    },
    {
     "data": {
      "text/plain": [
       "<function matplotlib.pyplot.show>"
      ]
     },
     "execution_count": 42,
     "metadata": {},
     "output_type": "execute_result"
    },
    {
     "data": {
      "image/png": "[encoded data removed]",
      "text/plain": [
       "<matplotlib.figure.Figure at 0x1f25f42def0>"
      ]
     },
     "metadata": {},
     "output_type": "display_data"
    }
   ],
   "source": [
    "X_std = np.copy(X)\n",
    "X_std[:,0] = (X[:,0] - X[:,0].mean()) / X[:,0].std()\n",
    "X_std[:,0] = (X[:,1] - X[:,1].mean()) / X[:,1].std()\n",
    "\n",
    "ada = AdalineGD(n_iter = 15, eta = 0.01).fit(X_std, y)\n",
    "plt.plot(range(1, len(ada.cost_) + 1), ada.cost_, marker = 'o')\n",
    "plt.xlabel('Epochs')\n",
    "plt.ylabel('Sum-squared-error')\n",
    "plt.show"
   ]
  }
 ],
 "metadata": {
  "anaconda-cloud": {},
  "kernelspec": {
   "display_name": "Python [Root]",
   "language": "python",
   "name": "Python [Root]"
  },
  "language_info": {
   "codemirror_mode": {
    "name": "ipython",
    "version": 3
   },
   "file_extension": ".py",
   "mimetype": "text/x-python",
   "name": "python",
   "nbconvert_exporter": "python",
   "pygments_lexer": "ipython3",
   "version": "3.5.2"
  }
 },
 "nbformat": 4,
 "nbformat_minor": 0
}
